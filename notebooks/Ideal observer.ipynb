{
 "cells": [
  {
   "cell_type": "code",
   "execution_count": 1,
   "metadata": {
    "collapsed": false
   },
   "outputs": [
    {
     "name": "stdout",
     "output_type": "stream",
     "text": [
      "Using matplotlib backend: Qt4Agg\n",
      "Populating the interactive namespace from numpy and matplotlib\n"
     ]
    },
    {
     "name": "stderr",
     "output_type": "stream",
     "text": [
      "/Users/nwilming/anaconda/lib/python2.7/site-packages/matplotlib/__init__.py:872: UserWarning: axes.color_cycle is deprecated and replaced with axes.prop_cycle; please use the latter.\n",
      "  warnings.warn(self.msg_depr % (key, alt_key))\n"
     ]
    }
   ],
   "source": [
    "import sys\n",
    "sys.path.append('/Users/nwilming/u')\n",
    "%pylab\n",
    "%matplotlib inline\n",
    "import seaborn as sns\n",
    "from conf_analysis import normative as nrm\n",
    "sns.set_style('ticks')\n",
    "%load_ext autoreload\n",
    "%autoreload 2"
   ]
  },
  {
   "cell_type": "markdown",
   "metadata": {},
   "source": [
    "Ideal observer analysis\n",
    "----------------------\n",
    "\n",
    "\n",
    "The task of the observer is to answer the question has the 2nd grating higher confidence. The observer answers with no (high, low confidence) or yes (low, high confidence).\n",
    "\n",
    "$$\n",
    "response = \\left\\{\n",
    "  \\begin{array}{ll}\n",
    "    -2 : & P(Yes | x_i) <& c-t\\\\\n",
    "    -1 : & P(Yes | x_i) <& c\\\\\n",
    "    +1 : & P(Yes | x_i)\\ge& c\\\\\n",
    "    +2 : & P(Yes | x_i)\\ge& c+t\\\\\n",
    "  \\end{array}\n",
    "\\right.\n",
    "$$\n",
    "\n",
    "In this case $x_i$ are the contrast samples and $i$ indexes time, $P(Yes|x_i)$ is the probability that 'Yes' is the correct answer and $t$ is the confidence threshold and $c$ is the criterion of the observer. This implies that the observer needs to compute $P(Yes | x_i)$, e.g. the probability that the correct answer is yes. For simplicity I assume that $c=0$ for now. \n",
    "\n",
    "$$\n",
    "\\begin{array}{rl}\n",
    "    P(Yes|x_i) = & P(\\mu>0 | x_i)\\\\\n",
    "     = & \\int_0^{\\infty} P(\\mu | x_i) d\\mu\n",
    "\\end{array}\n",
    "$$\n",
    "In our case the observer does neither know $\\sigma$ nor $\\mu$ of the distribution that generates the samples $x_i$. Calculation of $P(\\mu | x_i)$ should take this into account.\n",
    "$$P(\\mu | x_i)= \\int_{-\\infty}^{\\infty} P(\\mu | x_i, \\sigma)P(\\sigma) d\\sigma$$\n",
    "\n",
    "Assuming a Normal-Gamma prior leads to the following solution. First I show the prior:\n",
    "$$ P(\\mu, \\lambda) = \\mathcal{N}(\\mu | \\mu_0, (\\kappa_0 \\lambda)^{-1}) Ga(\\lambda | \\alpha_0, rate=\\beta_0)$$\n"
   ]
  },
  {
   "cell_type": "code",
   "execution_count": 2,
   "metadata": {
    "collapsed": false
   },
   "outputs": [
    {
     "data": {
      "image/png": "[encoded data removed]",
      "text/plain": [
       "<matplotlib.figure.Figure at 0x112e0b690>"
      ]
     },
     "metadata": {},
     "output_type": "display_data"
    }
   ],
   "source": [
    "figure(figsize=(2.5, 2.5))\n",
    "\n",
    "exprior = 0, .1, .1, .1\n",
    "\n",
    "M, P = meshgrid(linspace(-2.5, 2.5, 150), nrm.s2p(linspace(0.1, 2.5, 150)))\n",
    "pcolor(M, nrm.p2s(P), nrm.NG(M, P, *exprior), cmap=winter())\n",
    "xlim([-2.5, 2.5])\n",
    "ylim([0.1, 2.5])\n",
    "sns.despine()"
   ]
  },
  {
   "cell_type": "markdown",
   "metadata": {},
   "source": [
    "With this kind of conjugate prior the posterior also becomes a Normal-Gamma distribution. But for our purpose it is usefull to marginalize out the dependence on $\\sigma$ directly, i.e. to compute $P(\\mu | x_i)= \\int_{-\\infty}^{\\infty} P(\\mu | x_i, \\sigma)P(\\sigma) d\\sigma$.\n",
    "\n",
    "Luckily enough $P(\\mu | x_i)$ then becomes a student-T distribution:\n",
    "$$ P(\\mu | x_i) = \\mathcal{t}_{v=2\\alpha_n} (\\mu | \\mu_n, \\frac{\\beta_n}{\\alpha_n \\kappa_n})$$ \n",
    "The parameters are:\n",
    "$$\n",
    "\\begin{array}{rl}\n",
    "    \\bar{x} = & \\frac{1}{n} \\sum_{i=1}^n x_i\\\\\n",
    "    \\mu_n = & \\frac{\\kappa_0\\mu_0 + n\\bar{x}}{2(\\kappa_0 + n)}\\\\\n",
    "    \\kappa_n = & \\kappa_0 + n\\\\\n",
    "    \\alpha_n = & \\alpha_0 + n/2\\\\\n",
    "    \\beta_n = &\\beta_0 + \\frac{1}{2}\\sum_{i=1}^{n} (x_i-\\bar{x})^2 + \\frac{\\kappa_0 n (\\bar{x} - \\mu_0)^2)}{2(\\kappa_0 + n)}\n",
    "\\end{array}\n",
    "$$"
   ]
  },
  {
   "cell_type": "code",
   "execution_count": 5,
   "metadata": {
    "collapsed": false
   },
   "outputs": [
    {
     "data": {
      "image/png": "[encoded data removed]",
      "text/plain": [
       "<matplotlib.figure.Figure at 0x119430490>"
      ]
     },
     "metadata": {},
     "output_type": "display_data"
    }
   ],
   "source": [
    "figure(figsize=(2.5,2.5))\n",
    "m = linspace(-2, 2, 500)\n",
    "plot(m, nrm.t(*nrm.Mu_posterior(.5, 1, 10, exprior)).pdf(m))\n",
    "xlabel(r'$\\mu$')\n",
    "yticks([])\n",
    "sns.despine(left=True)"
   ]
  },
  {
   "cell_type": "markdown",
   "metadata": {},
   "source": [
    "With this we can compute the probability that $\\mu\\gt 0$. This is simply given by the CDF of the posterior:\n",
    "$$P(\\mu\\gt 0| x_i) = 1 - \\mathcal{T}(0 | \\mu_n, \\frac{\\beta_n}{\\alpha_n \\kappa_n})$$"
   ]
  },
  {
   "cell_type": "code",
   "execution_count": 6,
   "metadata": {
    "collapsed": false
   },
   "outputs": [
    {
     "data": {
      "text/plain": [
       "<matplotlib.colorbar.Colorbar at 0x119ce2590>"
      ]
     },
     "execution_count": 6,
     "metadata": {},
     "output_type": "execute_result"
    },
    {
     "data": {
      "image/png": "[encoded data removed]",
      "text/plain": [
       "<matplotlib.figure.Figure at 0x119760e10>"
      ]
     },
     "metadata": {},
     "output_type": "display_data"
    }
   ],
   "source": [
    "figure(figsize=(2.5, 2.5))\n",
    "M, S = meshgrid(linspace(-.5, .5, 150), linspace(0.1, 5., 150))\n",
    "contourf(M, S, nrm.plarger(M, S, 10, exprior))\n",
    "xlim([-.5, .5])\n",
    "sns.despine()\n",
    "colorbar()"
   ]
  },
  {
   "cell_type": "markdown",
   "metadata": {},
   "source": [
    "From this we can compute the posterior ratio that participants should answer 'Yes' or 'No':\n",
    "$$ LPR(x_i) = \\frac{P(\\mu\\gt 0| x_i)} {P(\\mu\\lt 0| x_i)} = \\frac{P(\\mu\\gt 0| x_i)} {1-P(\\mu\\lt 0| x_i)} = log P(\\mu\\gt 0| x_i) - log (1-P(\\mu\\gt 0| x_i))$$"
   ]
  },
  {
   "cell_type": "code",
   "execution_count": 7,
   "metadata": {
    "collapsed": false
   },
   "outputs": [
    {
     "data": {
      "image/png": "[encoded data removed]",
      "text/plain": [
       "<matplotlib.figure.Figure at 0x119316090>"
      ]
     },
     "metadata": {},
     "output_type": "display_data"
    }
   ],
   "source": [
    "\n",
    "figure(figsize=(2.5, 2.5))\n",
    "M, S = meshgrid(linspace(-.5, .5, 150), linspace(0.1, 5., 150))\n",
    "LPR =  nrm.logLPR(M, S, exprior)\n",
    "contourf(M, S, LPR, 15, cmap=winter()) \n",
    "xlim([-.5, .5])\n",
    "ylim([0.1, 2])\n",
    "sns.despine()"
   ]
  },
  {
   "cell_type": "markdown",
   "metadata": {},
   "source": [
    "Finding the ideal prior\n",
    "=======================\n",
    "\n",
    "\n",
    "In the experiment participants have access to many samples. Can we fit a 'prior' believe by estimating the NG distribution that best estimates these values? \n",
    "\n",
    "My first idea was to estimate the generative mean/sigma of a lot of samples and then just the posterior distribution of those samples as a new prior. In this case the precision of the estimated sigma largely determines the shape of the posterior. The larger the precision, the more parallel the posterior becomes.\n"
   ]
  },
  {
   "cell_type": "code",
   "execution_count": null,
   "metadata": {
    "collapsed": false
   },
   "outputs": [],
   "source": [
    "\n",
    "def overview_plot(samples, prior, Nsample=None, gs=None, offset=0):    \n",
    "    if gs is None:\n",
    "        gs = matplotlib.gridspec.GridSpec(2,2)\n",
    "    if Nsample is None:\n",
    "        Nsample = len(samples)\n",
    "    mun, kn, an, bn = nrm.NGposterior(samples.mean(), samples.std(), Nsample, prior)\n",
    "    prior = (mun, kn, an, bn)\n",
    "    posterior_mean = nrm.t(2*an, mun, bn/(an*kn))\n",
    "    posterior_sigma = nrm.gamma(an, scale=1./bn)\n",
    "    subplot(gs[0, offset+0])\n",
    "    sns.kdeplot(samples.mean(1), samples.std(1))\n",
    "    pyplot.locator_params(nbins=4)\n",
    "    \n",
    "    subplot(gs[0, offset+1])\n",
    "    M, S = meshgrid(linspace(-2, 2, 500), linspace(0.001, 5, 150))\n",
    "    LPR =  nrm.logLPR(M, S, prior)\n",
    "    contourf(M, S, LPR, 25)\n",
    "    colorbar()\n",
    "    #axvline(mun, color='k')\n",
    "    #axvline(-mun, color='k')\n",
    "    pyplot.locator_params(nbins=4)\n",
    "\n",
    "    subplot(gs[1, offset+0])\n",
    "    x = linspace(-.5, .5, 10000)\n",
    "    plot(x, posterior_mean.pdf(x))\n",
    "    xlabel(r'$\\mu$')\n",
    "    pyplot.locator_params(nbins=4)\n",
    "    yticks([])\n",
    "    axvline(samples.mean())\n",
    "    subplot(gs[1, offset+1])\n",
    "    x = nrm.s2p(linspace(0.001,  0.8, 1000))\n",
    "    yticks([])\n",
    "    plot(nrm.p2s(x), posterior_sigma.pdf(x))\n",
    "    xlabel(r'$\\sigma$')\n",
    "    pyplot.locator_params(nbins=4)\n",
    "    sns.despine()\n",
    "    axvline(samples.std())\n",
    "    tight_layout()\n",
    "    print mun\n",
    "\n",
    "figure(figsize=(10, 5))\n",
    "gs = matplotlib.gridspec.GridSpec(2, 4)\n",
    "samples = nrm.get_samples(N=600, symmetric=True)\n",
    "overview_plot(samples, exprior, Nsample=6, gs=gs)\n",
    "overview_plot(samples, exprior, gs=gs, Nsample=600, offset=2)"
   ]
  },
  {
   "cell_type": "markdown",
   "metadata": {},
   "source": [
    "Why does this happen? The posterior is defined by $log(P(\\mu>0| x_i)) - log(P(\\mu<0| x_i))$ and since the two probabilities are 1-each other, it is enough to look at one of the two in these two situations. The posterior $\\mu$ distribution is \n",
    "$$P(\\mu|x_i) = \\mathcal{t}_{2\\alpha_n} (\\mu | \\mu_n, \\beta_n / (\\alpha_n \\kappa_n))$$\n",
    "All of these parameters depend on the prior:\n",
    "\n",
    "$$\n",
    "\\begin{array}{rl}\n",
    "    \\mu_n = & \\frac{\\kappa_0\\mu_0 + n\\bar{x}}{2(\\kappa_0 + n)}\\\\\n",
    "    \\kappa_n = & \\kappa_0 + n\\\\\n",
    "    \\alpha_n = & \\alpha_0 + n/2\\\\\n",
    "    \\beta_n = &\\beta_0 + \\frac{1}{2}\\sum_{i=1}^{n} (x_i-\\bar{x})^2 + \\frac{\\kappa_0 n (\\bar{x} - \\mu_0)^2)}{2(\\kappa_0 + n)}\n",
    "\\end{array}\n",
    "$$\n",
    "\n",
    "So we can ask how the posterior distribution changes when the prior changes. Let's do a little experiment. We keep sigma, mean and prior the same and see what happends when the sample size changes:"
   ]
  },
  {
   "cell_type": "code",
   "execution_count": null,
   "metadata": {
    "collapsed": false
   },
   "outputs": [],
   "source": [
    "uncertain = nrm.NGposterior(samples.mean(), samples.std(), 6, exprior)\n",
    "certain = nrm.NGposterior(samples.mean(), samples.std(), 600, exprior)\n",
    "print uncertain\n",
    "print certain\n",
    "ss = arange(1, 100)\n",
    "figure(figsize=(6, 1.5))\n",
    "values = [nrm.NGposterior(samples.mean(), samples.std(), s, exprior) for s in ss]\n",
    "labels = [r'$\\mu_n$', r'$\\kappa_n$', r'$\\alpha_n$', r'$\\beta_n$']\n",
    "for i,p in enumerate(array(values).T):\n",
    "    subplot(1,4,i+1)\n",
    "    _=plot(ss, p)\n",
    "    pyplot.locator_params(nbins=4)\n",
    "    xlabel('Sample Size')\n",
    "    ylabel(labels[i])\n",
    "sns.despine()\n",
    "tight_layout()"
   ]
  },
  {
   "cell_type": "markdown",
   "metadata": {},
   "source": [
    "So in a way, if we change the sample size we simply scale $\\kappa_0$, $\\alpha_0$ and $\\beta_0$ with the sample size. The parameters for the posterior are:\n",
    "$$\n",
    "\\begin{array}{rl}\n",
    "    df = & 2\\alpha_n = 2 \\alpha_0 + n/2\\\\\n",
    "    loc = & \\mu_n = \\frac{\\kappa_0\\mu_0 + n\\bar{x}}{\\kappa_0 + n}\\\\\n",
    "    scale = & \\frac{\\beta_n}{\\alpha_n \\kappa_n} \n",
    "\\end{array}\n",
    "$$\n",
    "The df parameter will increase with certainty, which implies that the $\\mathcal{t}$ distribution becomes more and more normal. The location parameter will be closer and closer to the prior $\\mu$ with an increase in sample size in the prior, the size of this bias depends on $\\kappa_0$. The scale parameter depends in a non straightforward way on the uncertainty because $\\beta_n$ depends on $\\beta_0$ and $\\kappa_0$. But it definetly decreases with certainty. This creates a situation where the posterior becomes more normal, closer to the prior mean with certainty in the prior and less variability. We can use these properties to explain the features of the log PR space plotted above. For high uncertainty in the prior, the mean of the posterior is close to the sample mean and the uncertainty is comparably large. For high certainty the situation should be reversed. If we were to plot the mean of the posterior for high and low uncertainty in the prior, we would confirm that the mean moves strongly with the sample mean in the high uncertainty case but almost not at all in the high certainty case. Conversely, the sigma of the posterior is very low and almost independent of the sample sigma in the high certainty case but not in the high uncertainty case. "
   ]
  },
  {
   "cell_type": "markdown",
   "metadata": {},
   "source": [
    "A full decision model\n",
    "=====================\n",
    "\n",
    "In a first step I will implement an ideal observer that gets trials and decides what to do. The observe might choose to update the prior, know the 'true' prior beforehand and might use different but symmetric priors for each option."
   ]
  },
  {
   "cell_type": "code",
   "execution_count": null,
   "metadata": {
    "collapsed": false
   },
   "outputs": [],
   "source": [
    "figure(figsize=(5, 2.5))\n",
    "M, S = meshgrid(linspace(-10, 10, 150), linspace(0.001, 8, 150))\n",
    "p = array(uncertain)\n",
    "p[0] = .0\n",
    "obs = nrm.IdealObserver(bias=0, conf_threshold=log(3.5), prior=p)\n",
    "D = obs(M.ravel(), S.ravel()).reshape(M.shape)\n",
    "pcolor(M, S, D)\n",
    "pyplot.locator_params(nbins=4)\n",
    "sns.despine()"
   ]
  },
  {
   "cell_type": "code",
   "execution_count": null,
   "metadata": {
    "collapsed": false
   },
   "outputs": [],
   "source": [
    "obs = nrm.IdealObserver(bias=0, conf_threshold=log(1.5), prior=certain)\n",
    "samples = nrm.get_samples(N=2000, thresh=4,  symmetric=True, vars=[5, 10,  15])\n",
    "m, s = samples.mean(1), samples.std(1)\n",
    "d = obs(m, s)\n",
    "hexbin(m,s,d)\n",
    "sns.despine()\n",
    "colorbar()"
   ]
  },
  {
   "cell_type": "markdown",
   "metadata": {},
   "source": [
    "I now want to fit this model to behavioral data. In total this model has six parameters (the parameter vector shall be called $\\theta$). A confidence threshold, bias and the four paramters for the prior. How can we determine these parameters? Maybe we can treat the answer as coming from a multinomial distribution where the probabilities ($\\pi_i$) for the four answers a given by the model. This would allow us to define a likelihood function for computing $P(D| \\theta)$. I think the key question would be to decide if there is noise in the system. A good diagnostic for noise in the system would be if the same input leads to specific outputs with a certain probability. "
   ]
  },
  {
   "cell_type": "code",
   "execution_count": null,
   "metadata": {
    "collapsed": false
   },
   "outputs": [],
   "source": [
    "d2 = obs(samples.mean(1), samples.std(1))+2\n",
    "d2[d2>1] -= 1\n",
    "answers = d2\n",
    "data = (samples.mean(1), samples.std(1))\n",
    "nrm.err_fct([0, 2.5]+list(uncertain), answers, data)"
   ]
  },
  {
   "cell_type": "code",
   "execution_count": null,
   "metadata": {
    "collapsed": false
   },
   "outputs": [],
   "source": [
    "from scipy.optimize import minimize\n",
    "err = lambda x: nrm.err_fct(x, answers, data)\n",
    "x = minimize(err, [1, 1, 0, 1, 1, 1], method='Nelder-Mead')"
   ]
  },
  {
   "cell_type": "code",
   "execution_count": null,
   "metadata": {
    "collapsed": false
   },
   "outputs": [],
   "source": [
    "bias = x.x[0]\n",
    "cutoff = x.x[1]\n",
    "prior = x.x[2:]\n",
    "print '%2.4f, %2.4f || %2.4f, %2.4F, %2.4f, %2.4f'%(0, 2.5, certain[0], certain[1], certain[2], certain[3])\n",
    "print '%2.4f, %2.4f || %2.4f, %2.4F, %2.4f, %2.4f'%(bias, cutoff, prior[0], prior[1], prior[2], prior[3])"
   ]
  },
  {
   "cell_type": "code",
   "execution_count": null,
   "metadata": {
    "collapsed": false
   },
   "outputs": [],
   "source": [
    "figure(figsize=(12, 3.5))\n",
    "M, S = meshgrid(linspace(-20, 20, 150), linspace(0.001, 25, 150))\n",
    "\n",
    "subplot(1,2,1)\n",
    "obs = nrm.IdealObserver(bias=0, conf_threshold=log(1.5), prior=certain)\n",
    "m, s = samples.mean(1), samples.std(1)\n",
    "d = obs(m, s)\n",
    "hexbin(m,s,d)\n",
    "sns.despine()\n",
    "colorbar()\n",
    "\n",
    "obs = nrm.IdealObserver(bias=bias, conf_threshold=log(cutoff), prior=prior)\n",
    "d = obs(M.ravel(), S.ravel()).reshape(M.shape)\n",
    "\n",
    "print contour(M, S, d, unique(d), zorder=1, colors='k', ls='-')\n",
    "sns.despine()\n"
   ]
  },
  {
   "cell_type": "markdown",
   "metadata": {},
   "source": [
    "The predictive distribution\n",
    "===========================\n"
   ]
  },
  {
   "cell_type": "code",
   "execution_count": null,
   "metadata": {
    "collapsed": false
   },
   "outputs": [],
   "source": [
    "samples = nrm.get_samples(200, symmetric=False, vars=[0.05, .1, 0.15]).ravel()\n",
    "print samples.shape\n",
    "#m, s = samples.mean(1), samples.std(1)\n",
    "\n",
    "mun, kn, an, bn = nrm.NGposterior(samples.mean(), samples.std(), len(samples), exprior)\n",
    "kn1 = kn+1\n",
    "an1 = an+.5\n",
    "bn1 = bn + ( (kn*(samples.mean()-mun)**2)/(2*(kn+1)))\n",
    "\n",
    "loc = mun\n",
    "df = 2*an\n",
    "scale = (an*kn)/(bn*(kn+1))\n",
    "print df, nrm.p2s(scale), samples.std()\n",
    "tpred = nrm.t(df, loc, nrm.p2s(scale))\n",
    "x= linspace(-.5, .5, 50)\n",
    "y = tpred.pdf(x)\n",
    "plot(x, y/y.max())\n",
    "yy = histogram(samples, bins=x)[0]\n",
    "ctrs = x[1:] - diff(x)[0]\n",
    "plot(ctrs, yy/float(max(yy)), 'r-')\n",
    "sns.despine()"
   ]
  },
  {
   "cell_type": "markdown",
   "metadata": {},
   "source": [
    "Analysis idea: Variance misperception should evolve with the prior, a.k.a the number of samples seen."
   ]
  }
 ],
 "metadata": {
  "kernelspec": {
   "display_name": "Python 2",
   "language": "python",
   "name": "python2"
  }
 },
 "nbformat": 4,
 "nbformat_minor": 0
}
