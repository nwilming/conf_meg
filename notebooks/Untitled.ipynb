{
 "cells": [
  {
   "cell_type": "code",
   "execution_count": 157,
   "metadata": {
    "collapsed": false
   },
   "outputs": [
    {
     "name": "stdout",
     "output_type": "stream",
     "text": [
      "The autoreload extension is already loaded. To reload it, use:\n",
      "  %reload_ext autoreload\n"
     ]
    }
   ],
   "source": [
    "import cPickle, pupil\n",
    "from pylab import *\n",
    "import seaborn as sns\n",
    "import patsy_transforms as pt\n",
    "import pandas as pd\n",
    "%load_ext autoreload\n",
    "%autoreload 2\n",
    "%matplotlib inline\n",
    "sns.set_style('ticks')\n",
    "# Load data from all subs\n",
    "def get_data(sub):\n",
    "    data = cPickle.load(open(sub+'.pickle'))\n",
    "    events, messages = data['events'], data['messages']\n",
    "    events = events.reset_index()\n",
    "    del events['level_0']\n",
    "    del events['level_1']\n",
    "    events.rename(columns={'level_2':'sample_time'}, inplace=True)\n",
    "    events['sample_time'] = events.sample_time.astype(int)\n",
    "    events['subject'] = sub\n",
    "    events.set_index(['session', 'block', 'subject', 'sample_time'], inplace=True)    \n",
    "    messages.feedback[messages.feedback==0] = -1\n",
    "    messages['subject'] = sub\n",
    "    messages = messages.reset_index()\n",
    "    del messages['level_0']\n",
    "    del messages['level_1']\n",
    "    del messages['level_2']\n",
    "    messages.set_index(['session', 'block', 'subject', 'trial'], inplace=True)    \n",
    "    return events, messages"
   ]
  },
  {
   "cell_type": "code",
   "execution_count": 223,
   "metadata": {
    "collapsed": false
   },
   "outputs": [
    {
     "name": "stdout",
     "output_type": "stream",
     "text": [
      "s01\n",
      "[u'session', u'block', u'subject', u'trial']\n",
      "[u'session', u'block', u'subject', u'sample_time']\n",
      "s02\n",
      "[u'session', u'block', u'subject', u'trial']\n",
      "[u'session', u'block', u'subject', u'sample_time']\n",
      "s03\n",
      "[u'session', u'block', u'subject', u'trial']\n",
      "[u'session', u'block', u'subject', u'sample_time']\n",
      "s04\n",
      "[u'session', u'block', u'subject', u'trial']\n",
      "[u'session', u'block', u'subject', u'sample_time']\n",
      "s05\n",
      "[u'session', u'block', u'subject', u'trial']\n",
      "[u'session', u'block', u'subject', u'sample_time']\n"
     ]
    },
    {
     "name": "stderr",
     "output_type": "stream",
     "text": [
      "/Users/nwilming/anaconda/lib/python2.7/site-packages/ipykernel/__main__.py:21: SettingWithCopyWarning: \n",
      "A value is trying to be set on a copy of a slice from a DataFrame\n",
      "\n",
      "See the caveats in the documentation: http://pandas.pydata.org/pandas-docs/stable/indexing.html#indexing-view-versus-copy\n"
     ]
    }
   ],
   "source": [
    "events, messages = [], []\n",
    "for sub in ['s01', 's02', 's03', 's04', 's05']:\n",
    "    print sub\n",
    "    e, m = get_data(sub)\n",
    "    e,m = pupil.prepare_glm_regressors(e, m)\n",
    "    events.append(e)\n",
    "    messages.append(m)\n",
    "\n",
    "events = pd.concat(events)\n",
    "messages = pd.concat(messages)"
   ]
  },
  {
   "cell_type": "code",
   "execution_count": 224,
   "metadata": {
    "collapsed": true
   },
   "outputs": [],
   "source": [
    "import pupil\n",
    "yI, ydtI, ydnI = pupil.IRF_pupil()\n",
    "IRFS = [yI/yI.std(), ydnI/ydnI.std(), ydtI/ydtI.std()]\n",
    "yIe, ydtIe, ydnIe = pupil.IRF_pupil(tmax=0.25, n=1)#tmax=.25, n=8)\n",
    "IRFSe = [yIe, ydtIe, ydnIe]"
   ]
  },
  {
   "cell_type": "code",
   "execution_count": 226,
   "metadata": {
    "collapsed": false
   },
   "outputs": [],
   "source": [
    "model = '''\n",
    "pafilt ~   \n",
    "     pt.Z(left_gx) +pt.Z(left_gy) +\n",
    "     pt.MF(pt.Z(left_gx), IRFS) + \n",
    "     pt.MF(pt.Z(left_gy), IRFS) + \n",
    "     pt.MF(blink, IRFS) +\n",
    "     pt.MF(pt.Z(pt.dt(left_gx)), IRFS) + \n",
    "     pt.MF(pt.Z(pt.dt(left_gy)), IRFS) +\n",
    "     \n",
    "     pt.MF(ref, func=IRFS) +  \n",
    "     pt.MF(contrast, func=IRFS) +\n",
    "     pt.MF(pt.Z(pt.dt(contrast)), func=IRFS) +\n",
    "     \n",
    "     pt.MF(decramp21, IRFS) +\n",
    "     pt.MF(decramp22, IRFS) +\n",
    "     pt.MF(decramp23, IRFS) +\n",
    "     pt.MF(decramp24, IRFS) +\n",
    "\n",
    "     pt.MF(dec_start, IRFS) +\n",
    "     pt.MF(decend, IRFS) +     \n",
    "     \n",
    "     pt.MF(feedback_offset_pos, IRFS) +\n",
    "     pt.MF(feedback_offset_neg, IRFS) \n",
    "'''"
   ]
  },
  {
   "cell_type": "code",
   "execution_count": 228,
   "metadata": {
    "collapsed": true
   },
   "outputs": [],
   "source": [
    "events.groupby?"
   ]
  },
  {
   "cell_type": "code",
   "execution_count": 272,
   "metadata": {
    "collapsed": false
   },
   "outputs": [
    {
     "name": "stdout",
     "output_type": "stream",
     "text": [
      "R**2: 0.443646015402\n",
      "R**2: 0.492936618113\n",
      "R**2: 0.397547075965\n",
      "R**2: 0.413005908557\n",
      "R**2: 0.476713910224\n",
      "R**2: 0.617245490832\n",
      "R**2: 0.421236506274\n",
      "R**2: 0.339380354118\n",
      "R**2: 0.371283952516\n",
      "R**2: 0.398717510614\n",
      "R**2: 0.306714707947\n",
      "R**2: 0.819522332192\n",
      "R**2: 0.712226800847\n",
      "R**2: 0.525674205076\n",
      "R**2: 0.461508735793\n",
      "R**2: 0.567679170961\n",
      "R**2: 0.579039012339\n",
      "R**2: 0.49102806842\n",
      "R**2: 0.482946338752\n",
      "R**2: 0.519082102096\n",
      "R**2: 0.424110432476\n",
      "R**2: 0.487160452336\n",
      "R**2: 0.504398739569\n",
      "R**2: 0.548983271865\n",
      "R**2: 0.455187251024\n",
      "R**2: 0.462066178994\n",
      "R**2: 0.270052924831\n",
      "R**2: 0.324988223118\n",
      "R**2: 0.450999085289\n",
      "R**2: 0.403364691356\n",
      "R**2: 0.28429319267\n",
      "R**2: 0.270052924831\n",
      "R**2: 0.418320412761\n",
      "R**2: 0.529524124967\n",
      "R**2: 0.425378644777\n",
      "R**2: 0.367657109237\n",
      "R**2: 0.301496526338\n",
      "R**2: 0.322145466041\n",
      "R**2: 0.394182358963\n",
      "R**2: 0.939978701449\n",
      "R**2: 0.944407972058\n",
      "R**2: 0.643804929722\n",
      "R**2: 0.661556014841\n",
      "R**2: 0.57471286789\n",
      "R**2: 0.556635871968\n",
      "R**2: 0.575977889439\n",
      "R**2: 0.639526556096\n",
      "R**2: 0.546135400396\n",
      "R**2: 0.553747156209\n",
      "R**2: 0.504876318202\n",
      "R**2: 0.523742857568\n",
      "R**2: 0.11285317543\n",
      "R**2: 0.141483001433\n",
      "R**2: 0.192521827927\n",
      "R**2: 0.202330355647\n",
      "R**2: 0.181719298949\n",
      "R**2: 0.26303311495\n",
      "R**2: 0.222878338096\n",
      "R**2: 0.261307064209\n",
      "R**2: 0.243819359622\n",
      "R**2: 0.279861781205\n",
      "R**2: 0.18277072629\n",
      "R**2: 0.318617825472\n",
      "R**2: 0.353912737063\n",
      "R**2: 0.366705248914\n",
      "R**2: 0.23906858079\n",
      "R**2: 0.453942075505\n",
      "R**2: 0.402128233077\n",
      "R**2: 0.493246988654\n",
      "R**2: 0.406704197649\n",
      "R**2: 0.440891498277\n",
      "R**2: 0.666973357798\n",
      "R**2: 0.543234090159\n",
      "R**2: 0.574218360805\n",
      "R**2: 0.461901447005\n",
      "R**2: 0.375228495057\n",
      "R**2: 0.680094342453\n",
      "R**2: 0.550205818011\n",
      "R**2: 0.646194730751\n",
      "R**2: 0.571229296785\n",
      "R**2: 0.631588860459\n",
      "R**2: 0.624406981409\n",
      "R**2: 0.543550835651\n",
      "R**2: 0.476869455994\n",
      "R**2: 0.421106820678\n",
      "R**2: 0.374209946443\n"
     ]
    }
   ],
   "source": [
    "rsq = []\n",
    "events['decend'] = events.decision>0\n",
    "for cond, data in events.groupby(level=['subject', 'session', 'block']):\n",
    "    m, yh, y, X, res = pupil.eval_model(model, data.reset_index())\n",
    "    rsq.append((cond, corrcoef(yh.ravel(), y.ravel())[0,1]))"
   ]
  },
  {
   "cell_type": "code",
   "execution_count": 299,
   "metadata": {
    "collapsed": false
   },
   "outputs": [
    {
     "name": "stdout",
     "output_type": "stream",
     "text": [
      "(4, 5)\n",
      "(4, 5)\n",
      "(5, 5)\n",
      "(3, 5)\n",
      "(4, 5)\n"
     ]
    },
    {
     "data": {
      "text/plain": [
       "<matplotlib.legend.Legend at 0x1134ed150>"
      ]
     },
     "execution_count": 299,
     "metadata": {},
     "output_type": "execute_result"
    },
    {
     "data": {
      "image/png": "[encoded data removed]",
      "text/plain": [
       "<matplotlib.figure.Figure at 0x12a8175d0>"
      ]
     },
     "metadata": {},
     "output_type": "display_data"
    }
   ],
   "source": [
    "l = pd.DataFrame([list(k)+[v] for k, v in rsq])\n",
    "colors = sns.color_palette(n_colors=5)\n",
    "for i, (sub, d) in enumerate(l.groupby(0)):\n",
    "    print d.pivot(1,2,3).shape\n",
    "    plot(d.pivot(1,2,3).mean(1), color=colors[i], label=sub)\n",
    "legend()"
   ]
  },
  {
   "cell_type": "code",
   "execution_count": 289,
   "metadata": {
    "collapsed": true
   },
   "outputs": [],
   "source": [
    "sns.color_palette?"
   ]
  },
  {
   "cell_type": "code",
   "execution_count": 271,
   "metadata": {
    "collapsed": false
   },
   "outputs": [
    {
     "name": "stdout",
     "output_type": "stream",
     "text": [
      "\n",
      "pafilt ~   \n",
      "     pt.Z(right_gx) +pt.Z(right_gy) +\n",
      "     pt.MF(pt.Z(right_gx), IRFS) + \n",
      "     pt.MF(pt.Z(right_gy), IRFS) + \n",
      "     pt.MF(blink, IRFS) +\n",
      "     pt.MF(pt.Z(pt.dt(right_gx)), IRFS) + \n",
      "     pt.MF(pt.Z(pt.dt(right_gy)), IRFS) +\n",
      "     \n",
      "     pt.MF(ref, func=IRFS) +  \n",
      "     pt.MF(contrast, func=IRFS) +\n",
      "     pt.MF(pt.Z(pt.dt(contrast)), func=IRFS) +\n",
      "     \n",
      "     pt.MF(decramp21, IRFS) +\n",
      "     pt.MF(decramp22, IRFS) +\n",
      "     pt.MF(decramp23, IRFS) +\n",
      "     pt.MF(decramp24, IRFS) +\n",
      "\n",
      "     pt.MF(dec_start, IRFS) +\n",
      "     pt.MF(decend, IRFS) +     \n",
      "     \n",
      "     pt.MF(feedback_offset_pos, IRFS) +\n",
      "     pt.MF(feedback_offset_neg, IRFS) \n",
      "\n",
      "[[ 0.19966422]\n",
      " [ 0.20431401]\n",
      " [ 0.19138481]\n",
      " ..., \n",
      " [-3.52947117]\n",
      " [-2.68967257]\n",
      " [-1.69307723]]\n",
      "R**2: 0.944407972058\n"
     ]
    }
   ],
   "source": [
    "import patsy\n",
    "import patsy_transforms as pt\n",
    "data = events.loc[2, 4, 's03', slice(None)]\n",
    "m, yh, y, X, res = pupil.eval_model(model, data.reset_index())\n"
   ]
  },
  {
   "cell_type": "code",
   "execution_count": 265,
   "metadata": {
    "collapsed": false
   },
   "outputs": [
    {
     "data": {
      "text/plain": [
       "-32768.000000000007"
      ]
     },
     "execution_count": 265,
     "metadata": {},
     "output_type": "execute_result"
    }
   ],
   "source": [
    "unique(data.left_gx)[0]"
   ]
  },
  {
   "cell_type": "code",
   "execution_count": 264,
   "metadata": {
    "collapsed": false
   },
   "outputs": [
    {
     "data": {
      "text/plain": [
       "DesignMatrix with shape (55898, 1)\n",
       "    pafilt\n",
       "   0.19966\n",
       "   0.20431\n",
       "   0.19138\n",
       "   0.14874\n",
       "   0.07549\n",
       "  -0.01235\n",
       "  -0.07856\n",
       "  -0.06895\n",
       "   0.07751\n",
       "   0.40806\n",
       "   0.93124\n",
       "   1.60024\n",
       "   2.31917\n",
       "   2.97482\n",
       "   3.47753\n",
       "   3.78790\n",
       "   3.91883\n",
       "   3.91828\n",
       "   3.84577\n",
       "   3.75294\n",
       "   3.67339\n",
       "   3.62151\n",
       "   3.59709\n",
       "   3.59206\n",
       "   3.59635\n",
       "   3.60172\n",
       "   3.60330\n",
       "   3.59940\n",
       "   3.59050\n",
       "   3.57811\n",
       "  [55868 rows omitted]\n",
       "  Terms:\n",
       "    'pafilt' (column 0)\n",
       "  (to view full data, use np.asarray(this_obj))"
      ]
     },
     "execution_count": 264,
     "metadata": {},
     "output_type": "execute_result"
    }
   ],
   "source": [
    "y"
   ]
  }
 ],
 "metadata": {
  "kernelspec": {
   "display_name": "Python 2",
   "language": "python",
   "name": "python2"
  },
  "language_info": {
   "codemirror_mode": {
    "name": "ipython",
    "version": 2
   },
   "file_extension": ".py",
   "mimetype": "text/x-python",
   "name": "python",
   "nbconvert_exporter": "python",
   "pygments_lexer": "ipython2",
   "version": "2.7.11"
  }
 },
 "nbformat": 4,
 "nbformat_minor": 0
}
