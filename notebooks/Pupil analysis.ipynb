{
 "cells": [
  {
   "cell_type": "markdown",
   "metadata": {
    "collapsed": true
   },
   "source": [
    "Analysis of pupil data from the confidenced project\n",
    "------------------------------------------------\n",
    "\n",
    "Goal: Design a linear model that explains pupil data from the confidence project. \n",
    "\n",
    "Strategy: Use one example subject to design a model and then compare model predictions to event related averages"
   ]
  },
  {
   "cell_type": "code",
   "execution_count": 1,
   "metadata": {
    "collapsed": false
   },
   "outputs": [],
   "source": [
    "import cPickle\n",
    "from conf_analysis import pupil, patsy_transforms as pt\n",
    "from pylab import *\n",
    "import seaborn as sns\n",
    "import pandas as pd\n",
    "%load_ext autoreload\n",
    "%autoreload 2\n",
    "%matplotlib inline\n",
    "sns.set_style('ticks')"
   ]
  },
  {
   "cell_type": "code",
   "execution_count": 2,
   "metadata": {
    "collapsed": false
   },
   "outputs": [],
   "source": [
    "import gzip\n",
    "# Load data from all subs\n",
    "def get_data(sub):\n",
    "    data = cPickle.load(gzip.open('../temp_data/' + sub+'.pickle.gzip'))\n",
    "    events, messages = data['events'], data['messages']\n",
    "    events = events.reset_index()\n",
    "    del events['level_0']\n",
    "    del events['level_1']\n",
    "    events.rename(columns={'level_2':'sample_time'}, inplace=True)\n",
    "    events['sample_time'] = events.sample_time.astype(int)\n",
    "    events['subject'] = sub\n",
    "    events.set_index(['session', 'block', 'subject', 'sample_time'], inplace=True)    \n",
    "    messages.feedback[messages.feedback==0] = -1\n",
    "    messages['subject'] = sub\n",
    "    messages = messages.reset_index()\n",
    "    del messages['level_0']\n",
    "    del messages['level_1']\n",
    "    del messages['level_2']\n",
    "    messages.set_index(['session', 'block', 'subject', 'trial'], inplace=True)    \n",
    "    #def zscore(ev):\n",
    "    #    ev['pa'] = (ev.pa-ev.pa.mean())/ev.pa.std()\n",
    "    #    return ev\n",
    "    #events = events.groupby(level='session').apply(zscore)\n",
    "    return events, messages"
   ]
  },
  {
   "cell_type": "code",
   "execution_count": 3,
   "metadata": {
    "collapsed": false
   },
   "outputs": [
    {
     "name": "stderr",
     "output_type": "stream",
     "text": [
      "/Users/nwilming/anaconda/lib/python2.7/site-packages/ipykernel/__main__.py:13: SettingWithCopyWarning: \n",
      "A value is trying to be set on a copy of a slice from a DataFrame\n",
      "\n",
      "See the caveats in the documentation: http://pandas.pydata.org/pandas-docs/stable/indexing.html#indexing-view-versus-copy\n"
     ]
    }
   ],
   "source": [
    "events, messages = [], []\n",
    "for sub in ['S%02i'%i for i in [1,2,3,4,5,6,7,9,10,11,12,13,14]]:\n",
    "    e, m = get_data(sub)\n",
    "    events.append(e)\n",
    "    messages.append(m)\n",
    "events = pd.concat(events)\n",
    "messages = pd.concat(messages)"
   ]
  },
  {
   "cell_type": "code",
   "execution_count": null,
   "metadata": {
    "collapsed": false
   },
   "outputs": [],
   "source": [
    "messages.sort_index(inplace=True)\n",
    "events.sort_index(inplace=True)\n",
    "print messages.index.names, messages.index.lexsort_depth\n",
    "print events.index.names, events.index.lexsort_depth\n",
    "messages = messages.loc[~isnan(messages.decision_time)]"
   ]
  },
  {
   "cell_type": "code",
   "execution_count": null,
   "metadata": {
    "collapsed": false
   },
   "outputs": [],
   "source": [
    "whos"
   ]
  },
  {
   "cell_type": "code",
   "execution_count": 4,
   "metadata": {
    "collapsed": false
   },
   "outputs": [
    {
     "ename": "SystemError",
     "evalue": "error return without exception set",
     "output_type": "error",
     "traceback": [
      "\u001b[0;31m---------------------------------------------------------------------------\u001b[0m",
      "\u001b[0;31mSystemError\u001b[0m                               Traceback (most recent call last)",
      "\u001b[0;32m<ipython-input-4-c3fbb46a5d28>\u001b[0m in \u001b[0;36m<module>\u001b[0;34m()\u001b[0m\n\u001b[1;32m      1\u001b[0m \u001b[0;32mimport\u001b[0m \u001b[0mcPickle\u001b[0m\u001b[0;34m,\u001b[0m \u001b[0mgzip\u001b[0m\u001b[0;34m\u001b[0m\u001b[0m\n\u001b[1;32m      2\u001b[0m \u001b[0;31m#file = gzip.open('../temp_data/allsubs.df.gzip', 'w')\u001b[0m\u001b[0;34m\u001b[0m\u001b[0;34m\u001b[0m\u001b[0m\n\u001b[0;32m----> 3\u001b[0;31m \u001b[0mcPickle\u001b[0m\u001b[0;34m.\u001b[0m\u001b[0mdump\u001b[0m\u001b[0;34m(\u001b[0m\u001b[0;34m(\u001b[0m\u001b[0mevents\u001b[0m\u001b[0;34m,\u001b[0m \u001b[0mmessages\u001b[0m\u001b[0;34m)\u001b[0m\u001b[0;34m,\u001b[0m \u001b[0mopen\u001b[0m\u001b[0;34m(\u001b[0m\u001b[0;34m'../temp_data/allsubs.df'\u001b[0m\u001b[0;34m,\u001b[0m \u001b[0;34m'w'\u001b[0m\u001b[0;34m)\u001b[0m\u001b[0;34m,\u001b[0m \u001b[0mprotocol\u001b[0m\u001b[0;34m=\u001b[0m\u001b[0;36m2\u001b[0m\u001b[0;34m)\u001b[0m\u001b[0;34m\u001b[0m\u001b[0m\n\u001b[0m",
      "\u001b[0;31mSystemError\u001b[0m: error return without exception set"
     ]
    }
   ],
   "source": [
    "import cPickle, gzip\n",
    "#file = gzip.open('../temp_data/allsubs.df.gzip', 'w')\n",
    "cPickle.dump((events, messages), open('../temp_data/allsubs.df', 'w'), protocol=2)"
   ]
  },
  {
   "cell_type": "code",
   "execution_count": null,
   "metadata": {
    "collapsed": false
   },
   "outputs": [],
   "source": [
    "e = events.reset_index()"
   ]
  },
  {
   "cell_type": "code",
   "execution_count": null,
   "metadata": {
    "collapsed": false
   },
   "outputs": [],
   "source": [
    "from pyedfread import edfread\n",
    "from conf_analysis import datadef\n",
    "corrupt = dict((k, []) for k in datadef.sb2fname.keys())\n",
    "for s in range(1, 15):\n",
    "    for session, vals in datadef.sb2fname['S%02i'%s].iteritems():\n",
    "        for block, (edf, mat) in vals.iteritems():\n",
    "            try:\n",
    "                edfread.read_preamble(edf)\n",
    "            except:\n",
    "                corrupt['S%02i'%s].append(edf)"
   ]
  },
  {
   "cell_type": "code",
   "execution_count": null,
   "metadata": {
    "collapsed": false
   },
   "outputs": [],
   "source": [
    "for sub in range(1, 15):\n",
    "    try:\n",
    "        nsession = len(events.xs('S%02i'%sub, level='subject').groupby(level=['session', 'block']))\n",
    "        bar(sub-0.5, nsession, 1)\n",
    "        lc = len(corrupt['S%02i'%sub])\n",
    "        bar(sub-0.5, lc, bottom=nsession, width=1, color='r')\n",
    "    except Exception as e :\n",
    "        print e\n",
    "for k in [5, 10, 15, 20, 25]:\n",
    "    plot([0.5, 15.5], [k,k], 'k--')"
   ]
  },
  {
   "cell_type": "markdown",
   "metadata": {},
   "source": [
    "What is missing:\n",
    "---------------\n",
    "    - S1: 25 files available: 7,8,10,16,17.12 2015. Complete but corrupt.\n",
    "    - S2: Complete\n",
    "    - S3: 26 files available. Corruption!\n",
    "    - S4: One session is missing in datadef.py. Now corrected. Should be 25 after next conversion run \n",
    "    - S5: 25 files in datadef, corrupt!\n",
    "    - S6: 25 files in datadef, corrupt!\n",
    "    - S7: Block ordering in datadef not correct, now corrected. Wait for next conversion run.\n",
    "    - S9: Has 25 files in datadef. 1st block was missing in datadef on cluster.\n",
    "    - S10: One measurement had to be aborted because of license issues, one file was not saved.\n",
    "    - S11: Corrupt files. \n",
    "    - S12: Wait for next conversion\n",
    "    - S13 + S14: Wait for next conversion "
   ]
  },
  {
   "cell_type": "markdown",
   "metadata": {},
   "source": [
    "The data\n",
    "--------\n",
    "\n",
    "The next plot shows the raw pupil data across all available blocks for S2. The shown data has been band pass filtered in a range of [0.01 and 10] Hz."
   ]
  },
  {
   "cell_type": "code",
   "execution_count": null,
   "metadata": {
    "collapsed": false
   },
   "outputs": [],
   "source": [
    "figure(figsize=(18,12))\n",
    "for i, (snum, sdata) in enumerate(events.groupby(level='subject')):\n",
    "    subplot(12, 1, i+1)\n",
    "    plot(sdata.pa.values)\n",
    "    #ylim(-5, 5)\n",
    "    \n",
    "sns.despine()\n",
    "#xlim([295000, 300000])\n",
    "#ylim([-2.5, 2.5])"
   ]
  },
  {
   "cell_type": "code",
   "execution_count": null,
   "metadata": {
    "collapsed": false
   },
   "outputs": [],
   "source": [
    "events = events.groupby(level='session').apply(pupil.cleanup)\n"
   ]
  },
  {
   "cell_type": "code",
   "execution_count": null,
   "metadata": {
    "collapsed": false
   },
   "outputs": [],
   "source": [
    " 287231/5./100"
   ]
  },
  {
   "cell_type": "code",
   "execution_count": null,
   "metadata": {
    "collapsed": false
   },
   "outputs": [],
   "source": [
    "figure(figsize=(18,12*5))\n",
    "for i, (snum, sdata) in enumerate(events.groupby(level=['block', 'session'])):\n",
    "    subplot(15*5, 1, i+1)\n",
    "    t = arange(len(sdata))\n",
    "    plot(t, sdata.pa.values)\n",
    "    plot(t, sdata.pac.values, 'r')\n",
    "    #ylim(-5, 5)\n",
    "    yticks([])\n",
    "    xticks([])\n",
    "    xlim([0, 287231/5.])\n",
    "    title(snum)\n",
    "sns.despine()\n",
    "tight_layout()\n",
    "#ylim([-2.5, 2.5])"
   ]
  },
  {
   "cell_type": "code",
   "execution_count": null,
   "metadata": {
    "collapsed": true
   },
   "outputs": [],
   "source": [
    "def zscore(ev):\n",
    "    ev['pac'] = (ev.pac - ev.pac.mean())/ev.pac.std()\n",
    "    return ev\n",
    "events = events.groupby(level='session').apply(zscore)"
   ]
  },
  {
   "cell_type": "code",
   "execution_count": null,
   "metadata": {
    "collapsed": false
   },
   "outputs": [],
   "source": [
    "figure(figsize=(18,3))\n",
    "t = arange(len(events))/100.\n",
    "plot(t, events.pac.values)\n",
    "sns.despine()\n",
    "\n",
    "#ylim([-2.5, 2.5])"
   ]
  },
  {
   "cell_type": "markdown",
   "metadata": {},
   "source": [
    "The Model\n",
    "---------\n",
    "\n",
    "I use a simple GLM and convolve regressors with JW's standard IRF. I first compute the convolution kernels and then add some event fields that are useful for the model."
   ]
  },
  {
   "cell_type": "code",
   "execution_count": null,
   "metadata": {
    "collapsed": false
   },
   "outputs": [],
   "source": [
    "import pupil\n",
    "yI, ydtI, ydnI = pupil.IRF_pupil()\n",
    "IRFS = [yI/yI.std(), ydnI/ydnI.std(), ydtI/ydtI.std()]\n",
    "yIe, ydtIe, ydnIe = pupil.IRF_pupil(tmax=0.25, n=1)#tmax=.25, n=8)\n",
    "IRFSe = [yIe, ydtIe, ydnIe]"
   ]
  },
  {
   "cell_type": "code",
   "execution_count": null,
   "metadata": {
    "collapsed": false
   },
   "outputs": [],
   "source": [
    "low, pa , above = pupil.filter_pupil(events.pa, 100, highcut=10, lowcut=0.1)\n",
    "figure(figsize=(20, 6))\n",
    "plot(pa)\n",
    "low, pa, above = pupil.filter_pupil(events.pa, 100, highcut=10, lowcut=1/(6.))\n",
    "plot(pa)\n",
    "xlim([50000, 70000])"
   ]
  },
  {
   "cell_type": "code",
   "execution_count": null,
   "metadata": {
    "collapsed": true
   },
   "outputs": [],
   "source": [
    "events['pafilt'] = pa"
   ]
  },
  {
   "cell_type": "markdown",
   "metadata": {},
   "source": [
    "# Full GLM"
   ]
  },
  {
   "cell_type": "code",
   "execution_count": null,
   "metadata": {
    "collapsed": false
   },
   "outputs": [],
   "source": [
    "events['decend'] = events.decision>0\n",
    "\n",
    "m, yh, y, X, res = pupil.eval_model('''\n",
    "pafilt ~   \n",
    "     pt.Z(left_gx) +pt.Z(left_gy) +\n",
    "     pt.MF(pt.Z(left_gx), IRFS) + \n",
    "     pt.MF(pt.Z(left_gy), IRFS) + \n",
    "     pt.MF(blink, IRFS) +\n",
    "     pt.MF(pt.Z(pt.dt(left_gx)), IRFS) + \n",
    "     pt.MF(pt.Z(pt.dt(left_gy)), IRFS) +\n",
    "     \n",
    "     pt.MF(ref, func=IRFS) +  \n",
    "     pt.MF(contrast, func=IRFS) +\n",
    "     pt.MF(pt.Z(pt.dt(contrast)), func=IRFS) +\n",
    "     \n",
    "     pt.MF(decramp21, IRFS) +\n",
    "     pt.MF(decramp22, IRFS) +\n",
    "     pt.MF(decramp23, IRFS) +\n",
    "     pt.MF(decramp24, IRFS) +\n",
    "\n",
    "     pt.MF(dec_start, IRFS) +\n",
    "     pt.MF(decend, IRFS) +     \n",
    "     \n",
    "     pt.MF(feedback_offset_pos, IRFS) +\n",
    "     pt.MF(feedback_offset_neg, IRFS) \n",
    "''', events.reset_index())\n",
    "print events.shape\n",
    "print yh.shape\n",
    "events['yhat'] = yh\n",
    "events['residuals'] = y-yh\n"
   ]
  },
  {
   "cell_type": "code",
   "execution_count": null,
   "metadata": {
    "collapsed": false
   },
   "outputs": [],
   "source": [
    "import glm_viz\n",
    "figure(figsize=(20, 6))\n",
    "glm_viz.timecourse(events, y, yh, [2000, 2100])"
   ]
  },
  {
   "cell_type": "code",
   "execution_count": null,
   "metadata": {
    "collapsed": false
   },
   "outputs": [],
   "source": [
    "messages['contrast_onset_time'] = [x.contrast_time[0] for _,x in messages.iterrows()]\n",
    "messages['reference_onset_time'] = [x.decision_time-1900 for _, x in messages.iterrows()]"
   ]
  },
  {
   "cell_type": "code",
   "execution_count": null,
   "metadata": {
    "collapsed": false,
    "scrolled": false
   },
   "outputs": [],
   "source": [
    "figure(figsize=(20,8))\n",
    "glm_viz.condition_averages(events, messages)"
   ]
  },
  {
   "cell_type": "code",
   "execution_count": null,
   "metadata": {
    "collapsed": false
   },
   "outputs": [],
   "source": [
    "t = linspace(0, 1, 100)\n",
    "plot(1/t, t)"
   ]
  },
  {
   "cell_type": "code",
   "execution_count": null,
   "metadata": {
    "collapsed": false
   },
   "outputs": [],
   "source": [
    "xvals = events.pafilt-events.yhat\n",
    "print xvals.shape"
   ]
  },
  {
   "cell_type": "code",
   "execution_count": null,
   "metadata": {
    "collapsed": true
   },
   "outputs": [],
   "source": [
    "xcorr = correlate(xvals[::2], xvals[::2], 'same')"
   ]
  },
  {
   "cell_type": "code",
   "execution_count": null,
   "metadata": {
    "collapsed": false
   },
   "outputs": [],
   "source": [
    "print xcorr.shape\n",
    "plot((arange(len(xcorr))-len(xcorr)/2.)/50., xcorr)\n",
    "xlim([-200, 200])"
   ]
  }
 ],
 "metadata": {
  "kernelspec": {
   "display_name": "Python 2",
   "language": "python",
   "name": "python2"
  },
  "language_info": {
   "codemirror_mode": {
    "name": "ipython",
    "version": 2
   },
   "file_extension": ".py",
   "mimetype": "text/x-python",
   "name": "python",
   "nbconvert_exporter": "python",
   "pygments_lexer": "ipython2",
   "version": "2.7.11"
  }
 },
 "nbformat": 4,
 "nbformat_minor": 0
}
